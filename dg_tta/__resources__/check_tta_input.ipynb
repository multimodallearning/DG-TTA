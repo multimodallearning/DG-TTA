{
 "cells": [
  {
   "cell_type": "code",
   "execution_count": null,
   "metadata": {},
   "outputs": [],
   "source": [
    "from pathlib import Path\n",
    "\n",
    "import torch\n",
    "from dg_tta.tta.ipynb_utils import read_image, show_image_overview, get_target_imgs_datapaths, get_source_imgs_datapaths, show_ts104_image\n",
    "from dg_tta.tta.config_log_utils import load_current_modifier_functions"
   ]
  },
  {
   "cell_type": "markdown",
   "metadata": {},
   "source": [
    "# Have a look at the source images (reference to be fed to the model)"
   ]
  },
  {
   "cell_type": "code",
   "execution_count": null,
   "metadata": {},
   "outputs": [],
   "source": [
    "source_data_paths = get_source_imgs_datapaths()\n",
    "\n",
    "if source_data_paths == \"TS104\":\n",
    "    show_ts104_image()\n",
    "else:\n",
    "    source_img, source_sitk_stuff = read_image(source_data_paths, path_idx=0)\n",
    "    show_image_overview(source_img, source_sitk_stuff, fig_inch_size=5.)"
   ]
  },
  {
   "cell_type": "markdown",
   "metadata": {},
   "source": [
    "# Now compare source orientation to target image orientation\n",
    "* Adjust the `modify_tta_input_fn` in the `modifier_functions.py` file to feed the correct input to the network.\n",
    "* You may use `.permute()` `.flip()` etc.\n",
    "* Revert the applied modifications in `modfify_tta_model_output_fn` so that outputs are aligned correctly in the TTA data space."
   ]
  },
  {
   "cell_type": "code",
   "execution_count": null,
   "metadata": {},
   "outputs": [],
   "source": [
    "target_data_paths = get_target_imgs_datapaths()\n",
    "target_img, target_sitk_stuff = read_image(target_data_paths, path_idx=0)\n",
    "mod_fns = load_current_modifier_functions(Path.cwd())\n",
    "modified_target = mod_fns.ModifierFunctions.modify_tta_input_fn(target_img)\n",
    "show_image_overview(modified_target, target_sitk_stuff, fig_inch_size=5.)"
   ]
  },
  {
   "cell_type": "markdown",
   "metadata": {},
   "source": [
    "# Check reverse modification"
   ]
  },
  {
   "cell_type": "code",
   "execution_count": null,
   "metadata": {},
   "outputs": [],
   "source": [
    "reverse_modified_target = mod_fns.ModifierFunctions.modfify_tta_model_output_fn(target_img)\n",
    "assert torch.allclose(reverse_modified_target, target_img), \"Target and reverse modified target should be equal.\""
   ]
  }
 ],
 "metadata": {
  "kernelspec": {
   "display_name": "dg-tta-Yr2czbsD-py3.9",
   "language": "python",
   "name": "python3"
  },
  "language_info": {
   "codemirror_mode": {
    "name": "ipython",
    "version": 3
   },
   "file_extension": ".py",
   "mimetype": "text/x-python",
   "name": "python",
   "nbconvert_exporter": "python",
   "pygments_lexer": "ipython3",
   "version": "3.9.18"
  }
 },
 "nbformat": 4,
 "nbformat_minor": 2
}
